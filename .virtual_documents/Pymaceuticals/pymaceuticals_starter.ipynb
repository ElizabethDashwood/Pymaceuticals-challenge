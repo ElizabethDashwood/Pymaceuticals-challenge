


# Dependencies and Setup
import matplotlib.pyplot as plt
import pandas as pd
import scipy.stats as st

# Study data files
mouse_metadata_path = "data/Mouse_metadata.csv"
study_results_path = "data/Study_results.csv"

# Read the mouse data and the study results
mouse_metadata = pd.read_csv(mouse_metadata_path)
study_results = pd.read_csv(study_results_path)

# Combine the data into a single DataFrame
mouse_study_data_combined_df = pd.merge(study_results, mouse_metadata, how = "left", on= ["Mouse ID", "Mouse ID"])

# Display the data table for preview
mouse_study_data_combined_df.head()


# Checking the number of mice.
# Reference:https://www.geeksforgeeks.org/how-to-count-distinct-values-of-a-pandas-dataframe-column/
unique_mouse_id_int = len(pd.unique(mouse_study_data_combined_df['Mouse ID']))

print (unique_mouse_id_int)


# Our data should be uniquely identified by Mouse ID and Timepoint
# Get the duplicate mice by ID number that shows up for Mouse ID and Timepoint. 

grouped_by_Mouse_ID_Timepoint = mouse_study_data_combined_df.groupby(["Mouse ID","Timepoint"]) #Creates a DataFrame Group By Object

duplicate_mouse_id_timepoint_df = pd.DataFrame(grouped_by_Mouse_ID_Timepoint[["Timepoint"]].count()) # Count occurrences of Timepoint by Mouse ID

duplicate_mouse_id_timepoint_df.loc[duplicate_mouse_id_timepoint_df['Timepoint'] >1] # Find Mouse ID with duplicate Timepoint records


# Optional: Get all the data for the duplicate mouse ID. 
# Reference:https://stackoverflow.com/questions/17071871/how-do-i-select-rows-from-a-dataframe-based-on-column-values
mouse_with_duplicate_records_df = mouse_study_data_combined_df.loc[mouse_study_data_combined_df['Mouse ID'] == 'g989']
mouse_with_duplicate_records_df


# Create a clean DataFrame by dropping the duplicate mouse by its ID.
# Reference:https://saturncloud.io/blog/how-to-delete-dataframe-rows-in-pandas-based-on-column-value/#:~:text=To%20delete%20rows%20from%20a%20DataFrame%20based%20on%20a%20specific,of%20row%20labels%20to%20delete.

clean_df = mouse_study_data_combined_df.drop(mouse_study_data_combined_df[mouse_study_data_combined_df['Mouse ID'] == 'g989'].index)
clean_df.head()


# Checking the number of mice in the clean DataFrame.
unique_clean_int = len(pd.unique(clean_df['Mouse ID']))

print (unique_clean_int)





# Generate a summary statistics table of mean, median, variance, standard deviation, and SEM of the tumor volume for each regimen

# Use groupby and summary statistical methods to calculate the following properties of each drug regimen: 
# mean, median, variance, standard deviation, and SEM of the tumor volume. 
# Assemble the resulting series into a single summary DataFrame.
drug_regimen_groupby_obj = clean_df.groupby(["Drug Regimen"])

#Reference: https://docs.scipy.org/doc/scipy/reference/stats.html
mean_tumor_volume_series = drug_regimen_groupby_obj["Tumor Volume (mm3)"].mean() 
median_tumor_volume_series = drug_regimen_groupby_obj["Tumor Volume (mm3)"].median()
tumor_volume_variance_series = drug_regimen_groupby_obj["Tumor Volume (mm3)"].var()
tumor_volume_std_dev_series = drug_regimen_groupby_obj["Tumor Volume (mm3)"].std()
tumor_volume_std_err_series = drug_regimen_groupby_obj["Tumor Volume (mm3)"].sem()

summary_statistics_df = pd.DataFrame({
    "Mean Tumor Volume": mean_tumor_volume_series,
    "Median Tumor Volume": median_tumor_volume_series,
    "Tumor Volume Variance": tumor_volume_variance_series,
    "Tumor Volume Std.Dev.": tumor_volume_std_dev_series,
    "Tumor Volume Std.Err.": tumor_volume_std_err_series,
})

summary_statistics_df


# A more advanced method to generate a summary statistics table of mean, median, variance, standard deviation,
# and SEM of the tumor volume for each regimen (only one method is required in the solution)

# Using the aggregation method, produce the same summary statistics in a single line






# Generate a bar plot showing the total number of rows (Mouse ID/Timepoints) for each drug regimen using Pandas.



# Generate a bar plot showing the total number of rows (Mouse ID/Timepoints) for each drug regimen using pyplot.



# Generate a pie plot showing the distribution of female versus male mice using Pandas



# Generate a pie plot showing the distribution of female versus male mice using pyplot






# Calculate the final tumor volume of each mouse across four of the treatment regimens:  
# Capomulin, Ramicane, Infubinol, and Ceftamin

# Start by getting the last (greatest) timepoint for each mouse

# Merge this group df with the original DataFrame to get the tumor volume at the last timepoint



# Put treatments into a list for for loop (and later for plot labels)

# Create empty list to fill with tumor vol data (for plotting)

# Calculate the IQR and quantitatively determine if there are any potential outliers. 
    
    # Locate the rows which contain mice on each drug and get the tumor volumes
    
    # add subset 
    
    # Determine outliers using upper and lower bounds


# Generate a box plot that shows the distrubution of the tumor volume for each treatment group.






# Generate a line plot of tumor volume vs. time point for a single mouse treated with Capomulin



# Generate a scatter plot of mouse weight vs. the average observed tumor volume for the entire Capomulin regimen






# Calculate the correlation coefficient and a linear regression model 
# for mouse weight and average observed tumor volume for the entire Capomulin regimen




